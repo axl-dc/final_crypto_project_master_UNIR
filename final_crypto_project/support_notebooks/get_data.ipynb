{
 "cells": [
  {
   "cell_type": "markdown",
   "id": "008bd28f",
   "metadata": {},
   "source": [
    "## Import Libraries"
   ]
  },
  {
   "cell_type": "code",
   "execution_count": 1,
   "id": "875cb396",
   "metadata": {},
   "outputs": [],
   "source": [
    "from binance.client import Client\n",
    "import pandas as pd\n",
    "from datetime import datetime, timedelta\n",
    "import time\n",
    "import pytz"
   ]
  },
  {
   "cell_type": "markdown",
   "id": "15296a40",
   "metadata": {},
   "source": [
    "## Set up Client"
   ]
  },
  {
   "cell_type": "code",
   "execution_count": 2,
   "id": "b2574bca",
   "metadata": {},
   "outputs": [],
   "source": [
    "# No API key needed for public market data (historical candles)\n",
    "client = Client()"
   ]
  },
  {
   "cell_type": "markdown",
   "id": "b1c78e90",
   "metadata": {},
   "source": [
    "## Define a function to fetch historical klines"
   ]
  },
  {
   "cell_type": "code",
   "execution_count": 3,
   "id": "4ccb9bed",
   "metadata": {},
   "outputs": [],
   "source": [
    "client = Client()"
   ]
  },
  {
   "cell_type": "code",
   "execution_count": 32,
   "id": "c1ae2230",
   "metadata": {},
   "outputs": [],
   "source": [
    "def get_klines_batched(symbol, interval, start_str, end_str=None, timezone=None, sleep_time=0.5):\n",
    "    \"\"\"\n",
    "    Fetch historical OHLCV data in batches from Binance (no 1000-limit issues).\n",
    "\n",
    "    Parameters:\n",
    "    - symbol: str, e.g., 'BTCUSDT'\n",
    "    - interval: str, e.g., '1m', '1h', '1d'\n",
    "    - start_str: str, start date like '2023-01-01'\n",
    "    - end_str: str or None, end date like '2025-01-01'\n",
    "    - timezone: str or None, e.g., 'America/Mexico_City'\n",
    "    - sleep_time: float, seconds to sleep between batch requests\n",
    "\n",
    "    Returns:\n",
    "    - DataFrame with OHLCV data and optional timezone localization\n",
    "    \"\"\"\n",
    "    interval_map = {\n",
    "        '1m': timedelta(minutes=1),\n",
    "        '3m': timedelta(minutes=3),\n",
    "        '5m': timedelta(minutes=5),\n",
    "        '15m': timedelta(minutes=15),\n",
    "        '30m': timedelta(minutes=30),\n",
    "        '1h': timedelta(hours=1),\n",
    "        '2h': timedelta(hours=2),\n",
    "        '4h': timedelta(hours=4),\n",
    "        '6h': timedelta(hours=6),\n",
    "        '8h': timedelta(hours=8),\n",
    "        '12h': timedelta(hours=12),\n",
    "        '1d': timedelta(days=1),\n",
    "        '3d': timedelta(days=3),\n",
    "        '1w': timedelta(weeks=1),\n",
    "        '1M': timedelta(days=30)  # approx.\n",
    "    }\n",
    "\n",
    "    df_total = pd.DataFrame()\n",
    "    start_ts = int(pd.to_datetime(start_str).timestamp() * 1000)\n",
    "    end_ts = int(pd.to_datetime(end_str).timestamp() * 1000) if end_str else None\n",
    "    delta = interval_map[interval] * 1000  # delta in ms\n",
    "\n",
    "    while True:\n",
    "        klines = client.get_historical_klines(symbol=symbol,\n",
    "                                              interval=interval,\n",
    "                                              start_str=start_ts,\n",
    "                                              end_str=end_ts,\n",
    "                                              limit=1000)\n",
    "        \n",
    "        if not klines:\n",
    "            break\n",
    "\n",
    "        temp_df = pd.DataFrame(klines, columns=[\n",
    "            \"timestamp\", \"open\", \"high\", \"low\", \"close\", \"volume\",\n",
    "            \"close_time\", \"quote_asset_volume\", \"number_of_trades\",\n",
    "            \"taker_buy_base_volume\", \"taker_buy_quote_volume\", \"ignore\"\n",
    "        ])\n",
    "        \n",
    "        temp_df[\"timestamp\"] = pd.to_datetime(temp_df[\"timestamp\"], unit=\"ms\")\n",
    "        df_total = pd.concat([df_total, temp_df], ignore_index=True)\n",
    "\n",
    "        # Break if last candle exceeds end_ts or no more data\n",
    "        last_ts = klines[-1][0]\n",
    "        if end_ts and last_ts >= end_ts or len(klines) < 1000:\n",
    "            break\n",
    "        \n",
    "        start_ts = last_ts + int(delta.total_seconds() * 1000)\n",
    "        time.sleep(sleep_time)\n",
    "\n",
    "    df_total.set_index(\"timestamp\", inplace=True)\n",
    "\n",
    "    if timezone is not None:\n",
    "        df_total.index = df_total.index.tz_localize(\"UTC\").tz_convert(timezone)\n",
    "\n",
    "    df_total = df_total[[\"open\", \"high\", \"low\", \"close\", \"volume\"]].astype(float)\n",
    "    return df_total"
   ]
  },
  {
   "cell_type": "code",
   "execution_count": 30,
   "id": "56abc5c9",
   "metadata": {},
   "outputs": [],
   "source": [
    "def get_klines_batched_combined(symbol, interval, start_str, end_str, timezone=None, sleep_time=0.5, recent_pad_days=10):\n",
    "    \"\"\"\n",
    "    Smart wrapper: fetch historical + recent data from Binance to avoid cutoffs.\n",
    "\n",
    "    Parameters:\n",
    "    - recent_pad_days: int, how many days to reserve for recent fetch\n",
    "\n",
    "    Returns:\n",
    "    - Complete DataFrame with full date range\n",
    "    \"\"\"\n",
    "    # Step 1: define split point for \"recent\" section\n",
    "    end_dt = pd.to_datetime(end_str)\n",
    "    recent_start_dt = end_dt - timedelta(days=recent_pad_days)\n",
    "\n",
    "    # 1️⃣ Fetch full historical (up to recent_start_dt)\n",
    "    historical_df = get_klines_batched(\n",
    "        symbol=symbol,\n",
    "        interval=interval,\n",
    "        start_str=start_str,\n",
    "        end_str=recent_start_dt.strftime(\"%Y-%m-%d\"),\n",
    "        timezone=timezone,\n",
    "        sleep_time=sleep_time\n",
    "    )\n",
    "\n",
    "    # 2️⃣ Fetch recent (last few days)\n",
    "    recent_df = get_klines_batched(\n",
    "        symbol=symbol,\n",
    "        interval=interval,\n",
    "        start_str=recent_start_dt.strftime(\"%Y-%m-%d\"),\n",
    "        end_str=end_str,\n",
    "        timezone=timezone,\n",
    "        sleep_time=sleep_time\n",
    "    )\n",
    "\n",
    "    # Merge & deduplicate\n",
    "    full_df = pd.concat([historical_df, recent_df])\n",
    "    full_df = full_df[~full_df.index.duplicated(keep='last')]\n",
    "\n",
    "    return full_df.sort_index()"
   ]
  },
  {
   "cell_type": "code",
   "execution_count": 4,
   "id": "2e6dfb76",
   "metadata": {},
   "outputs": [],
   "source": [
    "def get_klines(symbol, interval, start_str, end_str=None, timezone=None):\n",
    "    \"\"\"\n",
    "    Fetches historical OHLCV data from Binance and optionally localizes time.\n",
    "\n",
    "    Parameters:\n",
    "    - symbol: str, e.g., 'BTCUSDT'\n",
    "    - interval: str, e.g., '1h', '1d'\n",
    "    - start_str: str, start date like '2023-01-01'\n",
    "    - end_str: str or None, end date like '2025-01-01'\n",
    "    - timezone: str or None, e.g., 'America/Mexico_City'\n",
    "\n",
    "    Returns:\n",
    "    - DataFrame with localized datetime index (if timezone is provided)\n",
    "    \"\"\"\n",
    "    klines = client.get_historical_klines(symbol=symbol,\n",
    "                                          interval=interval,\n",
    "                                          start_str=start_str,\n",
    "                                          end_str=end_str)\n",
    "\n",
    "    df = pd.DataFrame(klines, columns=[\n",
    "        \"timestamp\", \"open\", \"high\", \"low\", \"close\", \"volume\",\n",
    "        \"close_time\", \"quote_asset_volume\", \"number_of_trades\",\n",
    "        \"taker_buy_base_volume\", \"taker_buy_quote_volume\", \"ignore\"\n",
    "    ])\n",
    "    \n",
    "    # Convert timestamp to datetime (UTC)\n",
    "    df[\"timestamp\"] = pd.to_datetime(df[\"timestamp\"], unit=\"ms\")\n",
    "    df.set_index(\"timestamp\", inplace=True)\n",
    "\n",
    "    # Localize if timezone is specified\n",
    "    if timezone is not None:\n",
    "        df.index = df.index.tz_localize(\"UTC\").tz_convert(timezone)\n",
    "\n",
    "    df = df[[\"open\", \"high\", \"low\", \"close\", \"volume\"]].astype(float)\n",
    "    return df\n"
   ]
  },
  {
   "cell_type": "markdown",
   "id": "72194b39",
   "metadata": {},
   "source": [
    "## Get Data"
   ]
  },
  {
   "cell_type": "code",
   "execution_count": 7,
   "id": "fdb85a4d",
   "metadata": {},
   "outputs": [],
   "source": [
    "btc = get_klines(\n",
    "    symbol=\"BTCUSDT\",\n",
    "    interval=\"1h\",\n",
    "    start_str=\"2023-01-01\",\n",
    "    end_str=\"2025-06-29\",\n",
    "    timezone=\"America/Mexico_City\"\n",
    ")"
   ]
  },
  {
   "cell_type": "code",
   "execution_count": 8,
   "id": "54b2f07f",
   "metadata": {},
   "outputs": [],
   "source": [
    "sol = get_klines(\n",
    "    symbol=\"SOLUSDT\",\n",
    "    interval=\"1h\",\n",
    "    start_str=\"2023-01-01\",\n",
    "    end_str=\"2025-06-29\",\n",
    "    timezone=\"America/Mexico_City\"\n",
    ")"
   ]
  },
  {
   "cell_type": "code",
   "execution_count": 10,
   "id": "e9fbb7f9",
   "metadata": {},
   "outputs": [],
   "source": [
    "eth = get_klines(\n",
    "    symbol=\"ETHUSDT\",\n",
    "    interval=\"1h\",\n",
    "    start_str=\"2023-01-01\",\n",
    "    end_str=\"2025-06-29\",\n",
    "    timezone=\"America/Mexico_City\"\n",
    ")"
   ]
  },
  {
   "cell_type": "markdown",
   "id": "895f104f",
   "metadata": {},
   "source": [
    "## Store data into SQLite3 DB (step by step)"
   ]
  },
  {
   "cell_type": "code",
   "execution_count": 13,
   "id": "25edea0e",
   "metadata": {},
   "outputs": [],
   "source": [
    "import sqlite3"
   ]
  },
  {
   "cell_type": "code",
   "execution_count": 14,
   "id": "9c4371cf",
   "metadata": {},
   "outputs": [],
   "source": [
    "db_path = \"data/crypto_data.sqlite\""
   ]
  },
  {
   "cell_type": "markdown",
   "id": "0aff88bf",
   "metadata": {},
   "source": [
    "### Confirm data is ready"
   ]
  },
  {
   "cell_type": "markdown",
   "id": "2fd2c9a9",
   "metadata": {},
   "source": [
    "#### BTCUSDT"
   ]
  },
  {
   "cell_type": "code",
   "execution_count": 46,
   "id": "2140c53f",
   "metadata": {},
   "outputs": [
    {
     "data": {
      "application/vnd.microsoft.datawrangler.viewer.v0+json": {
       "columns": [
        {
         "name": "timestamp",
         "rawType": "datetime64[ns, America/Mexico_City]",
         "type": "unknown"
        },
        {
         "name": "open",
         "rawType": "float64",
         "type": "float"
        },
        {
         "name": "high",
         "rawType": "float64",
         "type": "float"
        },
        {
         "name": "low",
         "rawType": "float64",
         "type": "float"
        },
        {
         "name": "close",
         "rawType": "float64",
         "type": "float"
        },
        {
         "name": "volume",
         "rawType": "float64",
         "type": "float"
        }
       ],
       "ref": "98de5ec7-6431-4448-92e9-c95676e14321",
       "rows": [
        [
         "2022-12-31 18:00:00-06:00",
         "16541.77",
         "16545.7",
         "16508.39",
         "16529.67",
         "4364.8357"
        ],
        [
         "2022-12-31 19:00:00-06:00",
         "16529.59",
         "16556.8",
         "16525.78",
         "16551.47",
         "3590.06669"
        ],
        [
         "2022-12-31 20:00:00-06:00",
         "16551.47",
         "16559.77",
         "16538.14",
         "16548.19",
         "3318.84038"
        ],
        [
         "2022-12-31 21:00:00-06:00",
         "16548.19",
         "16548.19",
         "16518.21",
         "16533.04",
         "4242.0805"
        ],
        [
         "2022-12-31 22:00:00-06:00",
         "16533.04",
         "16535.97",
         "16511.92",
         "16521.85",
         "4285.00909"
        ]
       ],
       "shape": {
        "columns": 5,
        "rows": 5
       }
      },
      "text/html": [
       "<div>\n",
       "<style scoped>\n",
       "    .dataframe tbody tr th:only-of-type {\n",
       "        vertical-align: middle;\n",
       "    }\n",
       "\n",
       "    .dataframe tbody tr th {\n",
       "        vertical-align: top;\n",
       "    }\n",
       "\n",
       "    .dataframe thead th {\n",
       "        text-align: right;\n",
       "    }\n",
       "</style>\n",
       "<table border=\"1\" class=\"dataframe\">\n",
       "  <thead>\n",
       "    <tr style=\"text-align: right;\">\n",
       "      <th></th>\n",
       "      <th>open</th>\n",
       "      <th>high</th>\n",
       "      <th>low</th>\n",
       "      <th>close</th>\n",
       "      <th>volume</th>\n",
       "    </tr>\n",
       "    <tr>\n",
       "      <th>timestamp</th>\n",
       "      <th></th>\n",
       "      <th></th>\n",
       "      <th></th>\n",
       "      <th></th>\n",
       "      <th></th>\n",
       "    </tr>\n",
       "  </thead>\n",
       "  <tbody>\n",
       "    <tr>\n",
       "      <th>2022-12-31 18:00:00-06:00</th>\n",
       "      <td>16541.77</td>\n",
       "      <td>16545.70</td>\n",
       "      <td>16508.39</td>\n",
       "      <td>16529.67</td>\n",
       "      <td>4364.83570</td>\n",
       "    </tr>\n",
       "    <tr>\n",
       "      <th>2022-12-31 19:00:00-06:00</th>\n",
       "      <td>16529.59</td>\n",
       "      <td>16556.80</td>\n",
       "      <td>16525.78</td>\n",
       "      <td>16551.47</td>\n",
       "      <td>3590.06669</td>\n",
       "    </tr>\n",
       "    <tr>\n",
       "      <th>2022-12-31 20:00:00-06:00</th>\n",
       "      <td>16551.47</td>\n",
       "      <td>16559.77</td>\n",
       "      <td>16538.14</td>\n",
       "      <td>16548.19</td>\n",
       "      <td>3318.84038</td>\n",
       "    </tr>\n",
       "    <tr>\n",
       "      <th>2022-12-31 21:00:00-06:00</th>\n",
       "      <td>16548.19</td>\n",
       "      <td>16548.19</td>\n",
       "      <td>16518.21</td>\n",
       "      <td>16533.04</td>\n",
       "      <td>4242.08050</td>\n",
       "    </tr>\n",
       "    <tr>\n",
       "      <th>2022-12-31 22:00:00-06:00</th>\n",
       "      <td>16533.04</td>\n",
       "      <td>16535.97</td>\n",
       "      <td>16511.92</td>\n",
       "      <td>16521.85</td>\n",
       "      <td>4285.00909</td>\n",
       "    </tr>\n",
       "  </tbody>\n",
       "</table>\n",
       "</div>"
      ],
      "text/plain": [
       "                               open      high       low     close      volume\n",
       "timestamp                                                                    \n",
       "2022-12-31 18:00:00-06:00  16541.77  16545.70  16508.39  16529.67  4364.83570\n",
       "2022-12-31 19:00:00-06:00  16529.59  16556.80  16525.78  16551.47  3590.06669\n",
       "2022-12-31 20:00:00-06:00  16551.47  16559.77  16538.14  16548.19  3318.84038\n",
       "2022-12-31 21:00:00-06:00  16548.19  16548.19  16518.21  16533.04  4242.08050\n",
       "2022-12-31 22:00:00-06:00  16533.04  16535.97  16511.92  16521.85  4285.00909"
      ]
     },
     "execution_count": 46,
     "metadata": {},
     "output_type": "execute_result"
    }
   ],
   "source": [
    "btc.head()"
   ]
  },
  {
   "cell_type": "markdown",
   "id": "b069cfd8",
   "metadata": {},
   "source": [
    "#### Reset the index and prepare the data"
   ]
  },
  {
   "cell_type": "code",
   "execution_count": 47,
   "id": "dec91cea",
   "metadata": {},
   "outputs": [],
   "source": [
    "btc_to_insert = btc.reset_index()\n",
    "btc_to_insert[\"timestamp\"] = btc_to_insert[\"timestamp\"].astype(str)  # Convert to string for SQLite"
   ]
  },
  {
   "cell_type": "markdown",
   "id": "71bf8d73",
   "metadata": {},
   "source": [
    "#### Insert into SQLite database"
   ]
  },
  {
   "cell_type": "code",
   "execution_count": 49,
   "id": "05baadee",
   "metadata": {},
   "outputs": [],
   "source": [
    "with sqlite3.connect(db_path) as conn:\n",
    "    btc_to_insert.to_sql(\"btc_1h\", conn, if_exists=\"replace\", index=False)\n",
    "\n",
    "\n",
    "# Can change if_exists=\"replace\" to:\n",
    "# \"append\" to add new rows (if not duplicates),\n",
    "# \"fail\" to raise error if table exists."
   ]
  },
  {
   "cell_type": "markdown",
   "id": "8e03be97",
   "metadata": {},
   "source": [
    "#### Confirm insertion"
   ]
  },
  {
   "cell_type": "code",
   "execution_count": 50,
   "id": "cbcc3d28",
   "metadata": {},
   "outputs": [
    {
     "name": "stdout",
     "output_type": "stream",
     "text": [
      "   COUNT(*)\n",
      "0     11241\n"
     ]
    }
   ],
   "source": [
    "with sqlite3.connect(db_path) as conn:\n",
    "    count = pd.read_sql(\"SELECT COUNT(*) FROM btc_1h\", conn)\n",
    "print(count)"
   ]
  },
  {
   "cell_type": "code",
   "execution_count": 51,
   "id": "bba821d0",
   "metadata": {},
   "outputs": [],
   "source": [
    "sqlite3.connect(db_path).close()"
   ]
  },
  {
   "cell_type": "markdown",
   "id": "c1f7390c",
   "metadata": {},
   "source": [
    "## Store data into SQLite3 DB (function)"
   ]
  },
  {
   "cell_type": "code",
   "execution_count": 15,
   "id": "faccee4a",
   "metadata": {},
   "outputs": [
    {
     "data": {
      "text/plain": [
       "'data/crypto_data.sqlite'"
      ]
     },
     "execution_count": 15,
     "metadata": {},
     "output_type": "execute_result"
    }
   ],
   "source": [
    "db_path"
   ]
  },
  {
   "cell_type": "markdown",
   "id": "87ea56e1",
   "metadata": {},
   "source": [
    "### Function"
   ]
  },
  {
   "cell_type": "code",
   "execution_count": 16,
   "id": "75d96a44",
   "metadata": {},
   "outputs": [],
   "source": [
    "def insert_ohlcv_to_sqlite(df, table_name, db_path):\n",
    "    df_to_insert = df.reset_index()\n",
    "    df_to_insert[\"timestamp\"] = df_to_insert[\"timestamp\"].astype(str)\n",
    "    with sqlite3.connect(db_path) as conn:\n",
    "        df_to_insert.to_sql(table_name, conn, if_exists=\"replace\", index=False)"
   ]
  },
  {
   "cell_type": "markdown",
   "id": "80ecc46e",
   "metadata": {},
   "source": [
    "### ETH"
   ]
  },
  {
   "cell_type": "code",
   "execution_count": 17,
   "id": "6488d0e3",
   "metadata": {},
   "outputs": [],
   "source": [
    "insert_ohlcv_to_sqlite(\n",
    "    df=eth,\n",
    "    table_name=\"eth_1h\",\n",
    "    db_path=db_path\n",
    "    )"
   ]
  },
  {
   "cell_type": "markdown",
   "id": "17f67f6f",
   "metadata": {},
   "source": [
    "### SOL"
   ]
  },
  {
   "cell_type": "code",
   "execution_count": 18,
   "id": "6a253e05",
   "metadata": {},
   "outputs": [],
   "source": [
    "insert_ohlcv_to_sqlite(\n",
    "    df=sol,\n",
    "    table_name=\"sol_1h\",\n",
    "    db_path=db_path\n",
    "    )"
   ]
  },
  {
   "cell_type": "markdown",
   "id": "6f3f2213",
   "metadata": {},
   "source": [
    "### BTC"
   ]
  },
  {
   "cell_type": "code",
   "execution_count": 19,
   "id": "fb2664c5",
   "metadata": {},
   "outputs": [],
   "source": [
    "insert_ohlcv_to_sqlite(\n",
    "    df=btc,\n",
    "    table_name=\"btc_1h\",\n",
    "    db_path=db_path\n",
    "    )"
   ]
  }
 ],
 "metadata": {
  "kernelspec": {
   "display_name": "crypto-env",
   "language": "python",
   "name": "python3"
  },
  "language_info": {
   "codemirror_mode": {
    "name": "ipython",
    "version": 3
   },
   "file_extension": ".py",
   "mimetype": "text/x-python",
   "name": "python",
   "nbconvert_exporter": "python",
   "pygments_lexer": "ipython3",
   "version": "3.11.13"
  }
 },
 "nbformat": 4,
 "nbformat_minor": 5
}
